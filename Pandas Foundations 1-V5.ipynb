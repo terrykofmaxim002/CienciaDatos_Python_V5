{
 "cells": [
  {
   "cell_type": "markdown",
   "metadata": {},
   "source": [
    "# Pandas Foundations 1"
   ]
  },
  {
   "cell_type": "markdown",
   "metadata": {},
   "source": [
    "<font size=\"3\"> \n",
    "\n",
    "- Quick recap\n",
    "- Jupyter Server\n",
    "- Subsetting \n",
    "- Introduction to Pandas (1)\n",
    "  - Grammatical verbs\n",
    "- Q&A\n",
    "    \n",
    "    \n",
    "</font> "
   ]
  },
  {
   "cell_type": "markdown",
   "metadata": {},
   "source": [
    "## Dictionaries\n",
    "\n",
    "- A dictionary is a collection of items\n",
    "- Each item of a dictionary has a key/value pair\n",
    "- Dictionaries are used to store data values\n",
    "- As of Python version 3.7, dictionaries are ordered. In previous versios, dictionaries are unordered."
   ]
  },
  {
   "cell_type": "code",
   "execution_count": null,
   "metadata": {
    "ExecuteTime": {
     "end_time": "2023-08-14T22:48:10.340244Z",
     "start_time": "2023-08-14T22:48:10.338131Z"
    }
   },
   "outputs": [],
   "source": [
    "pop = [30.55, 2.77, 39.21]\n",
    "\n",
    "countries = [\"afghanistan\", \"albania\", \"algeria\"]"
   ]
  },
  {
   "cell_type": "code",
   "execution_count": null,
   "metadata": {
    "ExecuteTime": {
     "end_time": "2023-08-14T22:48:13.080229Z",
     "start_time": "2023-08-14T22:48:13.075940Z"
    }
   },
   "outputs": [],
   "source": [
    "type(countries)"
   ]
  },
  {
   "cell_type": "code",
   "execution_count": null,
   "metadata": {
    "ExecuteTime": {
     "end_time": "2023-08-14T22:48:59.644631Z",
     "start_time": "2023-08-14T22:48:59.641434Z"
    }
   },
   "outputs": [],
   "source": [
    "# -- A dictionary is a collection which is ordered*, changeable and does not allow duplicates.\n",
    "\n",
    "world = {\"afghanistan\":30.55, \"albania\":2.77, \"algeria\":39.21}\n",
    "\n",
    "world"
   ]
  },
  {
   "cell_type": "code",
   "execution_count": null,
   "metadata": {
    "ExecuteTime": {
     "end_time": "2023-08-14T22:49:22.266074Z",
     "start_time": "2023-08-14T22:49:22.263372Z"
    }
   },
   "outputs": [],
   "source": [
    "type(world)"
   ]
  },
  {
   "cell_type": "code",
   "execution_count": null,
   "metadata": {
    "ExecuteTime": {
     "end_time": "2023-08-14T22:49:22.907802Z",
     "start_time": "2023-08-14T22:49:22.904892Z"
    }
   },
   "outputs": [],
   "source": [
    "world[\"albania\"]"
   ]
  },
  {
   "cell_type": "markdown",
   "metadata": {},
   "source": [
    "### Access dictionary\n",
    "\n",
    "If the keys of a dictionary are chosen wisely, accessing the values in a dictionary is easy and intuitive. For example, to get the capital for France from europe you can use:\n",
    "\n",
    "europe['france']\n",
    "\n",
    "Here, 'france' is the key and 'paris' the value is returned."
   ]
  },
  {
   "cell_type": "code",
   "execution_count": null,
   "metadata": {
    "ExecuteTime": {
     "end_time": "2023-08-14T22:49:36.739273Z",
     "start_time": "2023-08-14T22:49:36.736783Z"
    }
   },
   "outputs": [],
   "source": [
    "# Definition of dictionary\n",
    "europe = {'spain':'madrid', 'france':'paris', 'germany':'berlin', 'norway':'oslo' }\n",
    "\n",
    "# Print out the keys in europe\n",
    "print(europe.keys())\n"
   ]
  },
  {
   "cell_type": "code",
   "execution_count": null,
   "metadata": {
    "ExecuteTime": {
     "end_time": "2023-08-14T22:49:45.288993Z",
     "start_time": "2023-08-14T22:49:45.286876Z"
    }
   },
   "outputs": [],
   "source": [
    "# Print out value that belongs to key 'spain'\n",
    "print(europe['spain'])"
   ]
  },
  {
   "cell_type": "markdown",
   "metadata": {},
   "source": [
    "### Dictionary Manipulation (1)\n",
    "\n",
    "- Add\n",
    "\n",
    "If you know how to access a dictionary, you can also assign a new value to it. To add a new key-value pair to europe you can use something like this:\n",
    "\n",
    "europe['iceland'] = 'reykjavik'"
   ]
  },
  {
   "cell_type": "code",
   "execution_count": null,
   "metadata": {
    "ExecuteTime": {
     "end_time": "2023-08-14T22:49:54.195241Z",
     "start_time": "2023-08-14T22:49:54.192099Z"
    }
   },
   "outputs": [],
   "source": [
    "# Definition of dictionary\n",
    "europe = {'spain':'madrid', 'france':'paris', 'germany':'berlin', 'norway':'oslo' }\n",
    "\n",
    "europe"
   ]
  },
  {
   "cell_type": "code",
   "execution_count": null,
   "metadata": {
    "ExecuteTime": {
     "end_time": "2023-08-14T22:50:09.033387Z",
     "start_time": "2023-08-14T22:50:09.031518Z"
    }
   },
   "outputs": [],
   "source": [
    "# Add italy to europe\n",
    "europe['italy'] = 'rome'"
   ]
  },
  {
   "cell_type": "code",
   "execution_count": null,
   "metadata": {
    "ExecuteTime": {
     "end_time": "2023-08-14T22:50:14.041731Z",
     "start_time": "2023-08-14T22:50:14.039555Z"
    }
   },
   "outputs": [],
   "source": [
    "# Print out italy in europe\n",
    "print('italy' in europe)\n"
   ]
  },
  {
   "cell_type": "code",
   "execution_count": null,
   "metadata": {
    "ExecuteTime": {
     "end_time": "2023-08-14T22:50:15.648554Z",
     "start_time": "2023-08-14T22:50:15.646538Z"
    }
   },
   "outputs": [],
   "source": [
    "# Add poland to europe\n",
    "europe['poland'] = 'warsaw'"
   ]
  },
  {
   "cell_type": "code",
   "execution_count": null,
   "metadata": {
    "ExecuteTime": {
     "end_time": "2023-08-14T22:50:16.801525Z",
     "start_time": "2023-08-14T22:50:16.799529Z"
    }
   },
   "outputs": [],
   "source": [
    "# Print europe\n",
    "print(europe)"
   ]
  },
  {
   "cell_type": "markdown",
   "metadata": {},
   "source": [
    "### Dictionary Manipulation (2)\n",
    "\n",
    "- Upate\n",
    "- Delete"
   ]
  },
  {
   "cell_type": "code",
   "execution_count": null,
   "metadata": {
    "ExecuteTime": {
     "end_time": "2023-08-14T22:50:24.658149Z",
     "start_time": "2023-08-14T22:50:24.655482Z"
    }
   },
   "outputs": [],
   "source": [
    "# Definition of dictionary\n",
    "europe = {'spain':'madrid', 'france':'paris', 'germany':'bonn',\n",
    "          'norway':'oslo', 'italy':'rome', 'poland':'warsaw',\n",
    "          'australia':'vienna' }\n",
    "\n",
    "print(europe)\n",
    "\n"
   ]
  },
  {
   "cell_type": "code",
   "execution_count": null,
   "metadata": {
    "ExecuteTime": {
     "end_time": "2023-08-14T22:50:29.465811Z",
     "start_time": "2023-08-14T22:50:29.463004Z"
    }
   },
   "outputs": [],
   "source": [
    "# Update capital of germany\n",
    "europe['germany'] = 'berlin'\n",
    "\n",
    "europe"
   ]
  },
  {
   "cell_type": "code",
   "execution_count": null,
   "metadata": {
    "ExecuteTime": {
     "end_time": "2023-08-14T22:50:31.961382Z",
     "start_time": "2023-08-14T22:50:31.959449Z"
    }
   },
   "outputs": [],
   "source": [
    "# Remove australia\n",
    "del(europe['australia'])\n"
   ]
  },
  {
   "cell_type": "code",
   "execution_count": null,
   "metadata": {
    "ExecuteTime": {
     "end_time": "2023-08-14T22:50:32.968931Z",
     "start_time": "2023-08-14T22:50:32.966610Z"
    }
   },
   "outputs": [],
   "source": [
    "# Print europe\n",
    "print(europe)"
   ]
  },
  {
   "cell_type": "markdown",
   "metadata": {},
   "source": [
    "### Dictionary Manipulation (3)\n",
    "\n",
    "- Dictionaries can contain key:value pairs where the values are again dictionaries.\n",
    "\n",
    "As an example, have a look at the script where another version of europe - the dictionary you've been working with all along - is coded. The keys are still the country names, but the values are dictionaries that contain more information than just the capital.\n",
    "\n",
    "It's perfectly possible to chain square brackets to select elements. To fetch the population for Spain from europe, for example, you need:\n",
    "\n",
    "europe['spain']['population']"
   ]
  },
  {
   "cell_type": "code",
   "execution_count": null,
   "metadata": {
    "ExecuteTime": {
     "end_time": "2023-08-14T22:50:53.321700Z",
     "start_time": "2023-08-14T22:50:53.318014Z"
    }
   },
   "outputs": [],
   "source": [
    "# Dictionary of dictionaries\n",
    "europe = { 'spain': { 'capital':'madrid', 'population':46.77 },\n",
    "           'france': { 'capital':'paris', 'population':66.03 },\n",
    "           'germany': { 'capital':'berlin', 'population':80.62 },\n",
    "           'norway': { 'capital':'oslo', 'population':5.084 } }\n",
    "\n",
    "\n",
    "europe"
   ]
  },
  {
   "cell_type": "code",
   "execution_count": null,
   "metadata": {
    "ExecuteTime": {
     "end_time": "2023-08-14T22:50:59.017170Z",
     "start_time": "2023-08-14T22:50:59.014806Z"
    }
   },
   "outputs": [],
   "source": [
    "# Print out the capital of France\n",
    "print(europe['france']['capital'])"
   ]
  },
  {
   "cell_type": "code",
   "execution_count": null,
   "metadata": {
    "ExecuteTime": {
     "end_time": "2023-08-14T22:51:05.209170Z",
     "start_time": "2023-08-14T22:51:05.206067Z"
    }
   },
   "outputs": [],
   "source": [
    "# Create sub-dictionary data\n",
    "data = { 'capital':'rome', 'population':59.83 }\n",
    "\n",
    "data"
   ]
  },
  {
   "cell_type": "code",
   "execution_count": null,
   "metadata": {
    "ExecuteTime": {
     "end_time": "2023-08-14T22:51:08.824732Z",
     "start_time": "2023-08-14T22:51:08.822725Z"
    }
   },
   "outputs": [],
   "source": [
    "# Add data to europe under key 'italy'\n",
    "europe['italy'] = data\n"
   ]
  },
  {
   "cell_type": "code",
   "execution_count": null,
   "metadata": {
    "ExecuteTime": {
     "end_time": "2023-08-14T22:51:09.985479Z",
     "start_time": "2023-08-14T22:51:09.982109Z"
    }
   },
   "outputs": [],
   "source": [
    "# Print europe\n",
    "europe"
   ]
  },
  {
   "cell_type": "markdown",
   "metadata": {},
   "source": [
    "## Pandas"
   ]
  },
  {
   "cell_type": "markdown",
   "metadata": {},
   "source": [
    "What is pandas?\n",
    "\n",
    "- Python library for data analysis\n",
    "    - <https://pandas.pydata.org/getting_started.html>\n",
    "    - <https://pandas.pydata.org/Pandas_Cheat_Sheet.pdf>\n",
    "    \n",
    "- Built on Numpy\n",
    "\n",
    "- DataFrame\n",
    "    - Tidy data \n",
    "    - <https://www.jstatsoft.org/article/view/v059i10>\n",
    "\n",
    "- High-performance containers for data analysis\n",
    "\n",
    "- Data structures with a lot of functionality\n",
    " - Meaningful labels\n",
    " - Time series functionality\n",
    " - Handling missing data\n",
    " - Relational operations"
   ]
  },
  {
   "cell_type": "markdown",
   "metadata": {},
   "source": [
    "### Dictionary to DataFrame (1)"
   ]
  },
  {
   "cell_type": "code",
   "execution_count": null,
   "metadata": {
    "ExecuteTime": {
     "end_time": "2023-08-14T22:51:25.481329Z",
     "start_time": "2023-08-14T22:51:25.477810Z"
    }
   },
   "outputs": [],
   "source": [
    "# Pre-defined lists\n",
    "names = ['United States', 'Australia', 'Japan', 'India', 'Russia', 'Morocco', 'Egypt']\n",
    "dr =  [True, False, False, False, True, True, True]\n",
    "cpc = [809, 731, 588, 18, 200, 70, 45]\n",
    "\n",
    "type(names)"
   ]
  },
  {
   "cell_type": "code",
   "execution_count": null,
   "metadata": {
    "ExecuteTime": {
     "end_time": "2023-08-14T22:51:26.104537Z",
     "start_time": "2023-08-14T22:51:26.101206Z"
    }
   },
   "outputs": [],
   "source": [
    "# Create dictionary my_dict with three key:value pairs: my_dict\n",
    "my_dict = { 'country':names, 'drives_right':dr, 'cars_per_cap':cpc }\n",
    "\n",
    "type(my_dict)"
   ]
  },
  {
   "cell_type": "code",
   "execution_count": null,
   "metadata": {
    "ExecuteTime": {
     "end_time": "2023-08-14T22:51:26.856877Z",
     "start_time": "2023-08-14T22:51:26.853671Z"
    }
   },
   "outputs": [],
   "source": [
    "my_dict"
   ]
  },
  {
   "cell_type": "code",
   "execution_count": null,
   "metadata": {
    "ExecuteTime": {
     "end_time": "2023-08-14T22:51:29.988798Z",
     "start_time": "2023-08-14T22:51:29.421776Z"
    }
   },
   "outputs": [],
   "source": [
    "# Import pandas as pd\n",
    "import pandas as pd\n",
    "\n",
    "# Build a DataFrame cars from my_dict: cars\n",
    "cars = pd.DataFrame(my_dict)\n",
    "\n",
    "# Print cars\n",
    "print(cars)\n",
    "type(cars)"
   ]
  },
  {
   "cell_type": "markdown",
   "metadata": {},
   "source": [
    "### Dataframe"
   ]
  },
  {
   "cell_type": "markdown",
   "metadata": {},
   "source": [
    "![title](imgs/dataframe.png)"
   ]
  },
  {
   "cell_type": "markdown",
   "metadata": {},
   "source": [
    "### CSV to DataFrame (1)\n",
    "\n",
    "- Putting data in a dictionary and then building a DataFrame works, but it's not very efficient. What if you're dealing with millions of observations? In those cases, the data is typically available as files with a regular structure. \n",
    "\n",
    "- One of those file types is the CSV file, which is short for \"comma-separated values\".\n",
    "\n",
    "- To import CSV data into Python as a Pandas DataFrame you can use read_csv().\n"
   ]
  },
  {
   "cell_type": "code",
   "execution_count": null,
   "metadata": {
    "ExecuteTime": {
     "end_time": "2023-08-14T22:52:30.610853Z",
     "start_time": "2023-08-14T22:52:30.601708Z"
    }
   },
   "outputs": [],
   "source": [
    "# --Import pandas as pd\n",
    "#import pandas as pd\n",
    "\n",
    "# Import the cars.csv data: cars\n",
    "cars = pd.read_csv('data/cars.csv')\n",
    "\n",
    "# Print out cars\n",
    "print(cars)"
   ]
  },
  {
   "cell_type": "markdown",
   "metadata": {},
   "source": [
    "### CSV to DataFrame (2)\n",
    "\n",
    "- Your read_csv() call to import the CSV data didn't generate an error, but the output is not entirely what we wanted. \n",
    "\n",
    "- The row labels were imported as another column without a name.\n"
   ]
  },
  {
   "cell_type": "code",
   "execution_count": null,
   "metadata": {
    "ExecuteTime": {
     "end_time": "2023-08-14T22:52:34.010130Z",
     "start_time": "2023-08-14T22:52:34.003336Z"
    }
   },
   "outputs": [],
   "source": [
    "# Fix import by including index_col\n",
    "cars = pd.read_csv('data/cars.csv', index_col = 0)\n",
    "\n",
    "# Print out cars\n",
    "print(cars)"
   ]
  },
  {
   "cell_type": "markdown",
   "metadata": {},
   "source": [
    "### Square Brackets (1)\n",
    "\n",
    "- To select only the cars_per_cap column from cars, you can use:\n",
    "\n",
    "- The single bracket version gives a Pandas Series, the double bracket version gives a Pandas DataFrame.\n",
    "\n",
    "    - cars['cars_per_cap']\n",
    "        - <https://pandas.pydata.org/pandas-docs/stable/reference/api/pandas.Series.html>\n",
    "\n",
    "    - cars[['cars_per_cap']]\n",
    "        - <https://pandas.pydata.org/pandas-docs/stable/reference/frame.html>\n",
    "        "
   ]
  },
  {
   "cell_type": "code",
   "execution_count": null,
   "metadata": {
    "ExecuteTime": {
     "end_time": "2023-08-14T22:52:38.756330Z",
     "start_time": "2023-08-14T22:52:38.753682Z"
    }
   },
   "outputs": [],
   "source": [
    "# Print out country column as Pandas Series\n",
    "print(cars['country'])\n"
   ]
  },
  {
   "cell_type": "code",
   "execution_count": null,
   "metadata": {
    "ExecuteTime": {
     "end_time": "2023-08-14T22:52:45.750632Z",
     "start_time": "2023-08-14T22:52:45.747512Z"
    }
   },
   "outputs": [],
   "source": [
    "type(cars['country'])"
   ]
  },
  {
   "cell_type": "code",
   "execution_count": null,
   "metadata": {
    "ExecuteTime": {
     "end_time": "2023-08-14T22:52:47.054336Z",
     "start_time": "2023-08-14T22:52:47.050756Z"
    }
   },
   "outputs": [],
   "source": [
    "# Print out country column as Pandas DataFrame\n",
    "print(cars[['country']])\n"
   ]
  },
  {
   "cell_type": "code",
   "execution_count": null,
   "metadata": {
    "ExecuteTime": {
     "end_time": "2023-08-14T22:52:49.326487Z",
     "start_time": "2023-08-14T22:52:49.322970Z"
    }
   },
   "outputs": [],
   "source": [
    "type(cars[['country']])"
   ]
  },
  {
   "cell_type": "code",
   "execution_count": null,
   "metadata": {
    "ExecuteTime": {
     "end_time": "2023-08-14T22:52:50.247473Z",
     "start_time": "2023-08-14T22:52:50.243694Z"
    }
   },
   "outputs": [],
   "source": [
    "# Print out DataFrame with country and drives_right columns\n",
    "print(cars[['country', 'drives_right']])"
   ]
  },
  {
   "cell_type": "markdown",
   "metadata": {},
   "source": [
    "### Square Brackets (2)\n",
    "\n",
    "- Square brackets can do more than just selecting columns. You can also use them to get rows, or observations, from a DataFrame. \n",
    "\n",
    "- The following call selects the first five rows from the cars DataFrame:\n",
    "\n",
    "    - cars[0:5]\n",
    "\n",
    "- The result is another DataFrame containing only the rows you specified.\n"
   ]
  },
  {
   "cell_type": "code",
   "execution_count": null,
   "metadata": {
    "ExecuteTime": {
     "end_time": "2023-08-14T22:52:57.870384Z",
     "start_time": "2023-08-14T22:52:57.867128Z"
    }
   },
   "outputs": [],
   "source": [
    "# Print out first 3 observations\n",
    "print(cars[0:3])\n"
   ]
  },
  {
   "cell_type": "code",
   "execution_count": null,
   "metadata": {
    "ExecuteTime": {
     "end_time": "2023-08-14T22:52:59.272095Z",
     "start_time": "2023-08-14T22:52:59.268477Z"
    }
   },
   "outputs": [],
   "source": [
    "# Print out fourth, fifth and sixth observation\n",
    "print(cars[3:6])"
   ]
  },
  {
   "cell_type": "markdown",
   "metadata": {},
   "source": [
    "### loc and iloc (1)\n",
    "\n",
    "- With loc and iloc you can do practically any data selection operation on DataFrames you can think of. \n",
    "\n",
    "- **loc** is label-based, which means that you have to specify rows and columns based on their row and column labels. \n",
    "\n",
    "    - <https://pandas.pydata.org/pandas-docs/stable/reference/api/pandas.DataFrame.loc.html>\n",
    "\n",
    "- **iloc** is integer index based, so you have to specify rows and columns by their integer index like you did in the previous exercise.\n",
    "\n",
    "    - <https://pandas.pydata.org/pandas-docs/stable/reference/api/pandas.DataFrame.iloc.html>\n",
    "\n",
    "\n",
    "cars.loc['RU']   \n",
    "cars.iloc[4]   \n",
    "\n",
    "cars.loc[['RU']]   \n",
    "cars.iloc[[4]]   \n",
    "\n",
    "cars.loc[['RU', 'AUS']]   \n",
    "cars.iloc[[4, 1]]   \n",
    "\n"
   ]
  },
  {
   "cell_type": "code",
   "execution_count": null,
   "metadata": {
    "ExecuteTime": {
     "end_time": "2023-08-14T22:57:21.538160Z",
     "start_time": "2023-08-14T22:57:21.530803Z"
    }
   },
   "outputs": [],
   "source": [
    "#import pandas as pd\n",
    "\n",
    "cars = pd.read_csv('data/cars.csv', index_col = 0)\n",
    "\n",
    "cars"
   ]
  },
  {
   "cell_type": "code",
   "execution_count": null,
   "metadata": {
    "ExecuteTime": {
     "end_time": "2023-08-14T22:57:23.903697Z",
     "start_time": "2023-08-14T22:57:23.900104Z"
    }
   },
   "outputs": [],
   "source": [
    "# Print out observations for Australia and Egypt\n",
    "print(cars.loc[['AUS', 'EG']])"
   ]
  },
  {
   "cell_type": "code",
   "execution_count": null,
   "metadata": {
    "ExecuteTime": {
     "end_time": "2023-08-14T22:57:31.677407Z",
     "start_time": "2023-08-14T22:57:31.674649Z"
    }
   },
   "outputs": [],
   "source": [
    "# Print out observation for Japan\n",
    "print(cars.iloc[2])\n"
   ]
  },
  {
   "cell_type": "markdown",
   "metadata": {},
   "source": [
    "### loc and iloc (2)\n",
    "\n",
    "- loc and iloc also allow you to select both rows and columns from a DataFrame. \n"
   ]
  },
  {
   "cell_type": "code",
   "execution_count": null,
   "metadata": {
    "ExecuteTime": {
     "end_time": "2023-08-14T22:57:36.823323Z",
     "start_time": "2023-08-14T22:57:36.818457Z"
    }
   },
   "outputs": [],
   "source": [
    "cars"
   ]
  },
  {
   "cell_type": "code",
   "execution_count": null,
   "metadata": {
    "ExecuteTime": {
     "end_time": "2023-08-14T22:57:43.980303Z",
     "start_time": "2023-08-14T22:57:43.977471Z"
    }
   },
   "outputs": [],
   "source": [
    "cars.loc['IN', 'cars_per_cap']"
   ]
  },
  {
   "cell_type": "code",
   "execution_count": null,
   "metadata": {
    "ExecuteTime": {
     "end_time": "2023-08-14T22:57:55.318189Z",
     "start_time": "2023-08-14T22:57:55.314837Z"
    }
   },
   "outputs": [],
   "source": [
    "cars.iloc[3, 0]"
   ]
  },
  {
   "cell_type": "code",
   "execution_count": null,
   "metadata": {
    "ExecuteTime": {
     "end_time": "2023-08-14T22:57:56.767817Z",
     "start_time": "2023-08-14T22:57:56.763836Z"
    }
   },
   "outputs": [],
   "source": [
    "cars.loc[['IN', 'RU'], 'cars_per_cap']"
   ]
  },
  {
   "cell_type": "code",
   "execution_count": null,
   "metadata": {
    "ExecuteTime": {
     "end_time": "2023-08-14T22:57:57.678214Z",
     "start_time": "2023-08-14T22:57:57.674397Z"
    }
   },
   "outputs": [],
   "source": [
    "cars.iloc[[3, 4], 0]"
   ]
  },
  {
   "cell_type": "code",
   "execution_count": null,
   "metadata": {
    "ExecuteTime": {
     "end_time": "2023-08-14T22:57:58.398937Z",
     "start_time": "2023-08-14T22:57:58.393525Z"
    }
   },
   "outputs": [],
   "source": [
    "cars.loc[['IN', 'RU'], ['cars_per_cap', 'country']]"
   ]
  },
  {
   "cell_type": "code",
   "execution_count": null,
   "metadata": {
    "ExecuteTime": {
     "end_time": "2023-08-14T22:58:00.552252Z",
     "start_time": "2023-08-14T22:58:00.547299Z"
    }
   },
   "outputs": [],
   "source": [
    "cars.iloc[[3, 4], [0, 1]]"
   ]
  },
  {
   "cell_type": "markdown",
   "metadata": {},
   "source": [
    "### loc and iloc (3)\n",
    "\n",
    "- It's also possible to select only columns with loc and iloc. \n",
    "\n",
    "- In both cases, you simply put a slice going from beginning to end in front of the comma:\n",
    "  "
   ]
  },
  {
   "cell_type": "code",
   "execution_count": null,
   "metadata": {
    "ExecuteTime": {
     "end_time": "2023-08-14T22:58:05.304743Z",
     "start_time": "2023-08-14T22:58:05.299712Z"
    }
   },
   "outputs": [],
   "source": [
    "cars\n"
   ]
  },
  {
   "cell_type": "code",
   "execution_count": null,
   "metadata": {
    "ExecuteTime": {
     "end_time": "2023-08-14T22:58:09.286718Z",
     "start_time": "2023-08-14T22:58:09.283138Z"
    }
   },
   "outputs": [],
   "source": [
    "cars.loc[:, 'country'] "
   ]
  },
  {
   "cell_type": "code",
   "execution_count": null,
   "metadata": {
    "ExecuteTime": {
     "end_time": "2023-08-14T22:58:14.788279Z",
     "start_time": "2023-08-14T22:58:14.784584Z"
    }
   },
   "outputs": [],
   "source": [
    "cars.iloc[:, 1]"
   ]
  },
  {
   "cell_type": "code",
   "execution_count": null,
   "metadata": {
    "ExecuteTime": {
     "end_time": "2023-08-14T22:58:38.649562Z",
     "start_time": "2023-08-14T22:58:38.644247Z"
    }
   },
   "outputs": [],
   "source": [
    "cars.loc[:, ['country','drives_right']]  "
   ]
  },
  {
   "cell_type": "code",
   "execution_count": null,
   "metadata": {
    "ExecuteTime": {
     "end_time": "2023-08-14T22:58:40.840929Z",
     "start_time": "2023-08-14T22:58:40.836218Z"
    }
   },
   "outputs": [],
   "source": [
    "cars.iloc[:, [1, 2]] "
   ]
  },
  {
   "cell_type": "markdown",
   "metadata": {},
   "source": [
    "### Methods\n",
    "\n",
    "- head()\n",
    "- tail()\n",
    "- info()\n"
   ]
  },
  {
   "cell_type": "code",
   "execution_count": null,
   "metadata": {
    "ExecuteTime": {
     "end_time": "2023-08-14T22:59:08.180842Z",
     "start_time": "2023-08-14T22:59:08.172018Z"
    }
   },
   "outputs": [],
   "source": [
    "apple_stock = pd.read_csv(\"data/appl_1980_2014.csv\")\n"
   ]
  },
  {
   "cell_type": "code",
   "execution_count": null,
   "metadata": {
    "ExecuteTime": {
     "end_time": "2023-08-14T22:59:09.235098Z",
     "start_time": "2023-08-14T22:59:09.228266Z"
    }
   },
   "outputs": [],
   "source": [
    "apple_stock.head()"
   ]
  },
  {
   "cell_type": "code",
   "execution_count": null,
   "metadata": {
    "ExecuteTime": {
     "end_time": "2023-08-14T22:59:10.274871Z",
     "start_time": "2023-08-14T22:59:10.267558Z"
    }
   },
   "outputs": [],
   "source": [
    "apple_stock.tail()"
   ]
  },
  {
   "cell_type": "code",
   "execution_count": null,
   "metadata": {
    "ExecuteTime": {
     "end_time": "2023-08-14T22:59:11.650605Z",
     "start_time": "2023-08-14T22:59:11.643734Z"
    }
   },
   "outputs": [],
   "source": [
    "apple_stock.info()"
   ]
  },
  {
   "cell_type": "markdown",
   "metadata": {},
   "source": [
    "## Use Case:\n",
    "\n",
    "### Datasets from CSV files\n",
    "\n",
    "- CSV file has no column headers\n",
    "\n",
    "- Missing values\n",
    "\n",
    "- Domain knowledge\n",
    "\n",
    "- <http://www.sidc.be/silso/home>"
   ]
  },
  {
   "cell_type": "code",
   "execution_count": null,
   "metadata": {
    "ExecuteTime": {
     "end_time": "2023-08-14T23:00:29.476017Z",
     "start_time": "2023-08-14T23:00:29.473981Z"
    }
   },
   "outputs": [],
   "source": [
    "filepath = 'data/ISSN_D_tot.csv'"
   ]
  },
  {
   "cell_type": "code",
   "execution_count": null,
   "metadata": {
    "ExecuteTime": {
     "end_time": "2023-08-14T23:00:30.520262Z",
     "start_time": "2023-08-14T23:00:30.489906Z"
    }
   },
   "outputs": [],
   "source": [
    "sunspots = pd.read_csv(filepath)\n",
    "\n",
    "#sunspots = pd.read_csv(\"data/ISSN_D_tot.csv\")\n",
    "\n",
    "sunspots"
   ]
  },
  {
   "cell_type": "code",
   "execution_count": null,
   "metadata": {
    "ExecuteTime": {
     "end_time": "2023-08-14T23:00:33.272556Z",
     "start_time": "2023-08-14T23:00:33.266596Z"
    }
   },
   "outputs": [],
   "source": [
    "sunspots.info()"
   ]
  },
  {
   "cell_type": "code",
   "execution_count": null,
   "metadata": {
    "ExecuteTime": {
     "end_time": "2023-08-14T23:00:36.055661Z",
     "start_time": "2023-08-14T23:00:36.049800Z"
    }
   },
   "outputs": [],
   "source": [
    "sunspots.iloc[10:20, :]"
   ]
  },
  {
   "cell_type": "markdown",
   "metadata": {},
   "source": [
    "### Using header keyword"
   ]
  },
  {
   "cell_type": "code",
   "execution_count": null,
   "metadata": {
    "ExecuteTime": {
     "end_time": "2023-08-14T23:00:54.400721Z",
     "start_time": "2023-08-14T23:00:54.367401Z"
    }
   },
   "outputs": [],
   "source": [
    "sunspots = pd.read_csv(filepath, header=None)\n",
    "\n",
    "sunspots"
   ]
  },
  {
   "cell_type": "code",
   "execution_count": null,
   "metadata": {
    "ExecuteTime": {
     "end_time": "2023-08-14T23:00:55.775861Z",
     "start_time": "2023-08-14T23:00:55.769667Z"
    }
   },
   "outputs": [],
   "source": [
    "sunspots.iloc[10:20, :]"
   ]
  },
  {
   "cell_type": "markdown",
   "metadata": {},
   "source": [
    "### Using names keyword"
   ]
  },
  {
   "cell_type": "code",
   "execution_count": null,
   "metadata": {
    "ExecuteTime": {
     "end_time": "2023-08-14T23:01:02.332386Z",
     "start_time": "2023-08-14T23:01:02.329214Z"
    }
   },
   "outputs": [],
   "source": [
    "col_names = ['year', 'month', 'day', 'dec_date', 'sunspots', 'definite']\n",
    "\n",
    "col_names"
   ]
  },
  {
   "cell_type": "code",
   "execution_count": null,
   "metadata": {
    "ExecuteTime": {
     "end_time": "2023-08-14T23:01:04.028787Z",
     "start_time": "2023-08-14T23:01:04.025746Z"
    }
   },
   "outputs": [],
   "source": [
    "type(col_names)"
   ]
  },
  {
   "cell_type": "code",
   "execution_count": null,
   "metadata": {
    "ExecuteTime": {
     "end_time": "2023-08-14T23:01:11.784601Z",
     "start_time": "2023-08-14T23:01:11.753039Z"
    }
   },
   "outputs": [],
   "source": [
    "sunspots = pd.read_csv(filepath, header=None, names=col_names)\n",
    "\n",
    "sunspots "
   ]
  },
  {
   "cell_type": "code",
   "execution_count": null,
   "metadata": {
    "ExecuteTime": {
     "end_time": "2023-08-14T23:01:17.167501Z",
     "start_time": "2023-08-14T23:01:17.161097Z"
    }
   },
   "outputs": [],
   "source": [
    "sunspots.iloc[10:20, :]"
   ]
  },
  {
   "cell_type": "markdown",
   "metadata": {},
   "source": [
    "### Using na_values keyword (1)\n",
    "\n",
    "- read_csv() \n",
    "    - <https://pandas.pydata.org/pandas-docs/stable/reference/api/pandas.read_csv.html>"
   ]
  },
  {
   "cell_type": "code",
   "execution_count": null,
   "metadata": {
    "ExecuteTime": {
     "end_time": "2023-08-14T23:01:20.852863Z",
     "start_time": "2023-08-14T23:01:20.808517Z"
    }
   },
   "outputs": [],
   "source": [
    "na_valuessunspots = pd.read_csv(filepath, header=None,\n",
    "                  names=col_names, na_values='-1')\n",
    "\n",
    "sunspots"
   ]
  },
  {
   "cell_type": "code",
   "execution_count": null,
   "metadata": {
    "ExecuteTime": {
     "end_time": "2023-08-14T23:01:35.702933Z",
     "start_time": "2023-08-14T23:01:35.696764Z"
    }
   },
   "outputs": [],
   "source": [
    "sunspots.iloc[10:20, :]"
   ]
  },
  {
   "cell_type": "code",
   "execution_count": null,
   "metadata": {
    "ExecuteTime": {
     "end_time": "2023-08-14T23:01:38.498821Z",
     "start_time": "2023-08-14T23:01:38.464732Z"
    }
   },
   "outputs": [],
   "source": [
    "#-- space in '-1' and ' -1'\n",
    "\n",
    "sunspots = pd.read_csv(filepath, header=None,\n",
    "                      names=col_names, na_values=' -1')\n",
    "\n",
    "sunspots"
   ]
  },
  {
   "cell_type": "markdown",
   "metadata": {},
   "source": [
    "### Using na_values keyword (3)"
   ]
  },
  {
   "cell_type": "code",
   "execution_count": null,
   "metadata": {
    "ExecuteTime": {
     "end_time": "2023-08-14T23:01:47.352247Z",
     "start_time": "2023-08-14T23:01:47.320151Z"
    }
   },
   "outputs": [],
   "source": [
    "sunspots = pd.read_csv(filepath, header=None,\n",
    "    ...: names=col_names, na_values={'sunspots':[' -1']})\n",
    "\n",
    "sunspots"
   ]
  },
  {
   "cell_type": "code",
   "execution_count": null,
   "metadata": {
    "ExecuteTime": {
     "end_time": "2023-08-14T23:01:54.598583Z",
     "start_time": "2023-08-14T23:01:54.592378Z"
    }
   },
   "outputs": [],
   "source": [
    "sunspots.info()"
   ]
  },
  {
   "cell_type": "markdown",
   "metadata": {},
   "source": [
    "### Using parse_dates keyword\n",
    "\n",
    "- read_csv() \n",
    "    - <https://pandas.pydata.org/pandas-docs/stable/reference/api/pandas.read_csv.html>\n",
    "  "
   ]
  },
  {
   "cell_type": "code",
   "execution_count": null,
   "metadata": {
    "ExecuteTime": {
     "end_time": "2023-08-14T23:01:59.592790Z",
     "start_time": "2023-08-14T23:01:59.543651Z"
    }
   },
   "outputs": [],
   "source": [
    "sunspots = pd.read_csv(filepath, \n",
    "                       header=None,\n",
    "                        names=col_names, na_values={'sunspots':[' -1']},\n",
    "                        parse_dates=[[0, 1, 2]])\n",
    "\n",
    "sunspots.iloc[10:20, :]"
   ]
  },
  {
   "cell_type": "code",
   "execution_count": null,
   "metadata": {
    "ExecuteTime": {
     "end_time": "2023-08-14T23:02:01.167230Z",
     "start_time": "2023-08-14T23:02:01.160884Z"
    }
   },
   "outputs": [],
   "source": [
    "sunspots.info()"
   ]
  },
  {
   "cell_type": "markdown",
   "metadata": {},
   "source": [
    "### Writing files\n",
    "\n",
    "- to_csv()\n",
    "\n",
    "    - <https://pandas.pydata.org/docs/reference/api/pandas.DataFrame.to_csv.html>\n",
    "    "
   ]
  },
  {
   "cell_type": "code",
   "execution_count": null,
   "metadata": {
    "ExecuteTime": {
     "end_time": "2023-08-14T23:02:18.408517Z",
     "start_time": "2023-08-14T23:02:18.232782Z"
    }
   },
   "outputs": [],
   "source": [
    "#sunspots.to_csv(\"data/ISSN_D_tot_CLEAN_5.csv\")"
   ]
  },
  {
   "cell_type": "code",
   "execution_count": null,
   "metadata": {},
   "outputs": [],
   "source": []
  },
  {
   "cell_type": "code",
   "execution_count": null,
   "metadata": {},
   "outputs": [],
   "source": []
  },
  {
   "cell_type": "code",
   "execution_count": null,
   "metadata": {},
   "outputs": [],
   "source": []
  },
  {
   "cell_type": "code",
   "execution_count": null,
   "metadata": {},
   "outputs": [],
   "source": []
  }
 ],
 "metadata": {
  "hide_input": false,
  "kernelspec": {
   "display_name": "Python 3 (ipykernel)",
   "language": "python",
   "name": "python3"
  },
  "language_info": {
   "codemirror_mode": {
    "name": "ipython",
    "version": 3
   },
   "file_extension": ".py",
   "mimetype": "text/x-python",
   "name": "python",
   "nbconvert_exporter": "python",
   "pygments_lexer": "ipython3",
   "version": "3.10.9"
  },
  "toc": {
   "base_numbering": 1,
   "nav_menu": {},
   "number_sections": true,
   "sideBar": true,
   "skip_h1_title": false,
   "title_cell": "Table of Contents",
   "title_sidebar": "Contents",
   "toc_cell": false,
   "toc_position": {},
   "toc_section_display": true,
   "toc_window_display": true
  },
  "varInspector": {
   "cols": {
    "lenName": 16,
    "lenType": 16,
    "lenVar": 40
   },
   "kernels_config": {
    "python": {
     "delete_cmd_postfix": "",
     "delete_cmd_prefix": "del ",
     "library": "var_list.py",
     "varRefreshCmd": "print(var_dic_list())"
    },
    "r": {
     "delete_cmd_postfix": ") ",
     "delete_cmd_prefix": "rm(",
     "library": "var_list.r",
     "varRefreshCmd": "cat(var_dic_list()) "
    }
   },
   "types_to_exclude": [
    "module",
    "function",
    "builtin_function_or_method",
    "instance",
    "_Feature"
   ],
   "window_display": false
  }
 },
 "nbformat": 4,
 "nbformat_minor": 4
}
